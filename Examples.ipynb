{
 "cells": [
  {
   "cell_type": "markdown",
   "metadata": {},
   "source": [
    "# Radial 1 dimensional heat transfer examples."
   ]
  },
  {
   "cell_type": "markdown",
   "metadata": {},
   "source": [
    "This notebook is an attempt to show some examples of how to generate results from the 1D-radial-exact script."
   ]
  },
  {
   "cell_type": "code",
   "execution_count": 1,
   "metadata": {},
   "outputs": [],
   "source": [
    "import RadialExact1D"
   ]
  },
  {
   "cell_type": "markdown",
   "metadata": {},
   "source": [
    "After importing the 1D script we need to create layer and boundary layer objects that will make up our model. Note that all the classes have Docstrings defining the required inputs."
   ]
  },
  {
   "cell_type": "code",
   "execution_count": 2,
   "metadata": {},
   "outputs": [],
   "source": [
    "coating = RadialExact1D.solid_layer(0.2e-3,5,1e7,1e-5,'coating')\n",
    "pipe = RadialExact1D.solid_layer(0.5e-3,30,5e6,1e-5,'Eurofer')\n",
    "breeder = RadialExact1D.solid_layer(5e-3,2,2e7,1e-5,'Breeder material')\n",
    "He_interlayer = RadialExact1D.fluid_layer(1e-3,400,2e4,2e4,'Helium interlayer')\n",
    "BC_in = RadialExact1D.boundary_condition('fluid','inner', T_inf = 600, h=5e4, label='Helium out')\n",
    "BC_out = RadialExact1D.boundary_condition('heat flux','outer',q=0.5e6, label='outer heatflux')"
   ]
  },
  {
   "cell_type": "markdown",
   "metadata": {},
   "source": [
    "These elements can then be assembled into a system."
   ]
  },
  {
   "cell_type": "code",
   "execution_count": 3,
   "metadata": {},
   "outputs": [],
   "source": [
    "b_in_pin = RadialExact1D.RadialExact1D(5e-3,[coating,breeder,coating,He_interlayer,coating,pipe,coating],BC_in,BC_out)"
   ]
  },
  {
   "cell_type": "markdown",
   "metadata": {},
   "source": [
    "At this point the system has been built but nothing has been solved. This will only happen after running a method which requires the solution to the system. We can however check some of the system attributes to check our inputs:"
   ]
  },
  {
   "cell_type": "code",
   "execution_count": 4,
   "metadata": {},
   "outputs": [
    {
     "name": "stdout",
     "output_type": "stream",
     "text": [
      "[0.005, 0.0052, 0.0102, 0.010400000000000001, 0.0114, 0.011600000000000001, 0.012100000000000001, 0.012300000000000002]\n",
      "[1, 1, 1, 0, 1, 1, 1]\n"
     ]
    }
   ],
   "source": [
    "print(b_in_pin.radii)\n",
    "print(b_in_pin.solid_map) #to see where the solid layers (1) and fluid layers (0) are distributed."
   ]
  },
  {
   "cell_type": "markdown",
   "metadata": {},
   "source": [
    "At this point the integration constants (C_) have not been solved for:"
   ]
  },
  {
   "cell_type": "code",
   "execution_count": 5,
   "metadata": {},
   "outputs": [
    {
     "ename": "AttributeError",
     "evalue": "'RadialExact1D' object has no attribute 'C_'",
     "output_type": "error",
     "traceback": [
      "\u001b[1;31m---------------------------------------------------------------------------\u001b[0m",
      "\u001b[1;31mAttributeError\u001b[0m                            Traceback (most recent call last)",
      "\u001b[1;32m<ipython-input-5-208ce1502e4a>\u001b[0m in \u001b[0;36m<module>\u001b[1;34m\u001b[0m\n\u001b[1;32m----> 1\u001b[1;33m \u001b[0mprint\u001b[0m\u001b[1;33m(\u001b[0m\u001b[0mb_in_pin\u001b[0m\u001b[1;33m.\u001b[0m\u001b[0mC_\u001b[0m\u001b[1;33m)\u001b[0m\u001b[1;33m\u001b[0m\u001b[1;33m\u001b[0m\u001b[0m\n\u001b[0m",
      "\u001b[1;31mAttributeError\u001b[0m: 'RadialExact1D' object has no attribute 'C_'"
     ]
    }
   ],
   "source": [
    "print(b_in_pin.C_)"
   ]
  },
  {
   "cell_type": "markdown",
   "metadata": {},
   "source": [
    "These constants are solved for using the C method but any methods requiring the system to be solved will run C if the C_ attribute is missing:"
   ]
  },
  {
   "cell_type": "code",
   "execution_count": 6,
   "metadata": {},
   "outputs": [
    {
     "name": "stdout",
     "output_type": "stream",
     "text": [
      "[[-2.35193304e+01]\n",
      " [ 4.86916736e+02]\n",
      " [ 8.80167391e+00]\n",
      " [ 7.10489875e+02]\n",
      " [-1.00519330e+02]\n",
      " [ 1.30146238e-01]\n",
      " [-1.08463500e+03]\n",
      " [-4.41446678e+03]\n",
      " [-1.91985833e+02]\n",
      " [-5.03080930e+02]\n",
      " [-1.07871000e+03]\n",
      " [-4.35552684e+03]]\n"
     ]
    }
   ],
   "source": [
    "b_in_pin.C()\n",
    "print(b_in_pin.C_)"
   ]
  },
  {
   "cell_type": "code",
   "execution_count": 7,
   "metadata": {},
   "outputs": [
    {
     "name": "stdout",
     "output_type": "stream",
     "text": [
      "598.059 degC\n",
      "4.856e+04 W/m^2K\n",
      "1.556e+03 W/m\n"
     ]
    }
   ],
   "source": [
    "del b_in_pin.C_ #delete attribute to show that other methods will solve for C_.\n",
    "print('{:.3f} degC'.format(b_in_pin.T(5.1e-3))) #print temperature at input radial position\n",
    "del b_in_pin.C_\n",
    "print('{:.3e} W/m^2K'.format(b_in_pin.q(5.1e-3))) #print heat flux at input radial position\n",
    "del b_in_pin.C_\n",
    "print('{:.3e} W/m'.format(b_in_pin.Q(5.1e-3))) #print heat transfer at input radial position"
   ]
  },
  {
   "cell_type": "markdown",
   "metadata": {},
   "source": [
    "Using the above methods to extract the temperature, heat flux and heat transfer at any position we can use the in-built plotting method to plot the temperature profile, heat flux and heat transfer throughout:"
   ]
  },
  {
   "cell_type": "code",
   "execution_count": 8,
   "metadata": {},
   "outputs": [
    {
     "data": {
      "image/png": "[encoded data removed]",
      "text/plain": [
       "<Figure size 432x288 with 3 Axes>"
      ]
     },
     "metadata": {
      "needs_background": "light"
     },
     "output_type": "display_data"
    }
   ],
   "source": [
    "fig1=b_in_pin.plot_T(1000,1,1,1,0) #plot with 1000 data points, show heat flux and heat transfer and bounds, but not heat transfer labels"
   ]
  },
  {
   "cell_type": "markdown",
   "metadata": {},
   "source": [
    "We can also generate a data frame object with readable column headings for export to a variety of formats using pandas inbuilt export methods (eg JSON, csv, xls etc.):"
   ]
  },
  {
   "cell_type": "code",
   "execution_count": 10,
   "metadata": {},
   "outputs": [
    {
     "data": {
      "text/html": [
       "<div>\n",
       "<style scoped>\n",
       "    .dataframe tbody tr th:only-of-type {\n",
       "        vertical-align: middle;\n",
       "    }\n",
       "\n",
       "    .dataframe tbody tr th {\n",
       "        vertical-align: top;\n",
       "    }\n",
       "\n",
       "    .dataframe thead th {\n",
       "        text-align: right;\n",
       "    }\n",
       "</style>\n",
       "<table border=\"1\" class=\"dataframe\">\n",
       "  <thead>\n",
       "    <tr style=\"text-align: right;\">\n",
       "      <th></th>\n",
       "      <th>object</th>\n",
       "      <th>layer thickness [m]</th>\n",
       "      <th>label</th>\n",
       "      <th>layer type</th>\n",
       "      <th>conductivity [W/mK]</th>\n",
       "      <th>volumetric heat generation [W/m^3]</th>\n",
       "      <th>thermal resistance of outer layer interface [m^2K/W]</th>\n",
       "      <th>r_inner [m]</th>\n",
       "      <th>r_outer [m]</th>\n",
       "      <th>T_{r_inner} [degC]</th>\n",
       "      <th>...</th>\n",
       "      <th>internal heat generation [W/m]</th>\n",
       "      <th>inner boundary heat transfer [W/m]</th>\n",
       "      <th>outer boundary heat transfer [W/m]</th>\n",
       "      <th>Bulk temperature [degC]</th>\n",
       "      <th>inner heat transfer coefficient [W/m^2K]</th>\n",
       "      <th>outer heat transfer coefficient [W/m^2K]</th>\n",
       "      <th>net heat transfer into layer/boundary [W/m]</th>\n",
       "      <th>boundary condition side</th>\n",
       "      <th>boundary condition type</th>\n",
       "      <th>boundary heat flux [W/m^2]</th>\n",
       "    </tr>\n",
       "  </thead>\n",
       "  <tbody>\n",
       "    <tr>\n",
       "      <th>0</th>\n",
       "      <td>layer</td>\n",
       "      <td>0.0002</td>\n",
       "      <td>coating</td>\n",
       "      <td>solid</td>\n",
       "      <td>5.0</td>\n",
       "      <td>10000000.0</td>\n",
       "      <td>0.00001</td>\n",
       "      <td>0.0050</td>\n",
       "      <td>0.0052</td>\n",
       "      <td>599.029613</td>\n",
       "      <td>...</td>\n",
       "      <td>64.088490</td>\n",
       "      <td>1524.279721</td>\n",
       "      <td>1588.368211</td>\n",
       "      <td>NaN</td>\n",
       "      <td>NaN</td>\n",
       "      <td>NaN</td>\n",
       "      <td>NaN</td>\n",
       "      <td>NaN</td>\n",
       "      <td>NaN</td>\n",
       "      <td>NaN</td>\n",
       "    </tr>\n",
       "    <tr>\n",
       "      <th>1</th>\n",
       "      <td>layer</td>\n",
       "      <td>0.0050</td>\n",
       "      <td>Breeder material</td>\n",
       "      <td>solid</td>\n",
       "      <td>2.0</td>\n",
       "      <td>20000000.0</td>\n",
       "      <td>0.00001</td>\n",
       "      <td>0.0052</td>\n",
       "      <td>0.0102</td>\n",
       "      <td>596.601021</td>\n",
       "      <td>...</td>\n",
       "      <td>4838.052687</td>\n",
       "      <td>1588.368211</td>\n",
       "      <td>6426.420896</td>\n",
       "      <td>NaN</td>\n",
       "      <td>NaN</td>\n",
       "      <td>NaN</td>\n",
       "      <td>NaN</td>\n",
       "      <td>NaN</td>\n",
       "      <td>NaN</td>\n",
       "      <td>NaN</td>\n",
       "    </tr>\n",
       "    <tr>\n",
       "      <th>2</th>\n",
       "      <td>layer</td>\n",
       "      <td>0.0002</td>\n",
       "      <td>coating</td>\n",
       "      <td>solid</td>\n",
       "      <td>5.0</td>\n",
       "      <td>10000000.0</td>\n",
       "      <td>0.00001</td>\n",
       "      <td>0.0102</td>\n",
       "      <td>0.0104</td>\n",
       "      <td>409.028223</td>\n",
       "      <td>...</td>\n",
       "      <td>129.433617</td>\n",
       "      <td>6426.420897</td>\n",
       "      <td>6555.854514</td>\n",
       "      <td>NaN</td>\n",
       "      <td>NaN</td>\n",
       "      <td>NaN</td>\n",
       "      <td>NaN</td>\n",
       "      <td>NaN</td>\n",
       "      <td>NaN</td>\n",
       "      <td>NaN</td>\n",
       "    </tr>\n",
       "  </tbody>\n",
       "</table>\n",
       "<p>3 rows × 24 columns</p>\n",
       "</div>"
      ],
      "text/plain": [
       "  object  layer thickness [m]             label layer type  \\\n",
       "0  layer               0.0002           coating      solid   \n",
       "1  layer               0.0050  Breeder material      solid   \n",
       "2  layer               0.0002           coating      solid   \n",
       "\n",
       "   conductivity [W/mK]  volumetric heat generation [W/m^3]  \\\n",
       "0                  5.0                          10000000.0   \n",
       "1                  2.0                          20000000.0   \n",
       "2                  5.0                          10000000.0   \n",
       "\n",
       "   thermal resistance of outer layer interface [m^2K/W]  r_inner [m]  \\\n",
       "0                                            0.00001          0.0050   \n",
       "1                                            0.00001          0.0052   \n",
       "2                                            0.00001          0.0102   \n",
       "\n",
       "   r_outer [m]  T_{r_inner} [degC]  ...  internal heat generation [W/m]  \\\n",
       "0       0.0052          599.029613  ...                       64.088490   \n",
       "1       0.0102          596.601021  ...                     4838.052687   \n",
       "2       0.0104          409.028223  ...                      129.433617   \n",
       "\n",
       "   inner boundary heat transfer [W/m]  outer boundary heat transfer [W/m]  \\\n",
       "0                         1524.279721                         1588.368211   \n",
       "1                         1588.368211                         6426.420896   \n",
       "2                         6426.420897                         6555.854514   \n",
       "\n",
       "   Bulk temperature [degC]  inner heat transfer coefficient [W/m^2K]  \\\n",
       "0                      NaN                                       NaN   \n",
       "1                      NaN                                       NaN   \n",
       "2                      NaN                                       NaN   \n",
       "\n",
       "   outer heat transfer coefficient [W/m^2K]  \\\n",
       "0                                       NaN   \n",
       "1                                       NaN   \n",
       "2                                       NaN   \n",
       "\n",
       "   net heat transfer into layer/boundary [W/m]  boundary condition side  \\\n",
       "0                                          NaN                      NaN   \n",
       "1                                          NaN                      NaN   \n",
       "2                                          NaN                      NaN   \n",
       "\n",
       "   boundary condition type  boundary heat flux [W/m^2]  \n",
       "0                      NaN                         NaN  \n",
       "1                      NaN                         NaN  \n",
       "2                      NaN                         NaN  \n",
       "\n",
       "[3 rows x 24 columns]"
      ]
     },
     "execution_count": 10,
     "metadata": {},
     "output_type": "execute_result"
    }
   ],
   "source": [
    "df = b_in_pin.results()\n",
    "df.head(3)"
   ]
  },
  {
   "cell_type": "code",
   "execution_count": 11,
   "metadata": {},
   "outputs": [
    {
     "data": {
      "text/html": [
       "<div>\n",
       "<style scoped>\n",
       "    .dataframe tbody tr th:only-of-type {\n",
       "        vertical-align: middle;\n",
       "    }\n",
       "\n",
       "    .dataframe tbody tr th {\n",
       "        vertical-align: top;\n",
       "    }\n",
       "\n",
       "    .dataframe thead th {\n",
       "        text-align: right;\n",
       "    }\n",
       "</style>\n",
       "<table border=\"1\" class=\"dataframe\">\n",
       "  <thead>\n",
       "    <tr style=\"text-align: right;\">\n",
       "      <th></th>\n",
       "      <th>object</th>\n",
       "      <th>layer thickness [m]</th>\n",
       "      <th>label</th>\n",
       "      <th>layer type</th>\n",
       "      <th>conductivity [W/mK]</th>\n",
       "      <th>volumetric heat generation [W/m^3]</th>\n",
       "      <th>thermal resistance of outer layer interface [m^2K/W]</th>\n",
       "      <th>r_inner [m]</th>\n",
       "      <th>r_outer [m]</th>\n",
       "      <th>T_{r_inner} [degC]</th>\n",
       "      <th>...</th>\n",
       "      <th>internal heat generation [W/m]</th>\n",
       "      <th>inner boundary heat transfer [W/m]</th>\n",
       "      <th>outer boundary heat transfer [W/m]</th>\n",
       "      <th>Bulk temperature [degC]</th>\n",
       "      <th>inner heat transfer coefficient [W/m^2K]</th>\n",
       "      <th>outer heat transfer coefficient [W/m^2K]</th>\n",
       "      <th>net heat transfer into layer/boundary [W/m]</th>\n",
       "      <th>boundary condition side</th>\n",
       "      <th>boundary condition type</th>\n",
       "      <th>boundary heat flux [W/m^2]</th>\n",
       "    </tr>\n",
       "  </thead>\n",
       "  <tbody>\n",
       "    <tr>\n",
       "      <th>6</th>\n",
       "      <td>layer</td>\n",
       "      <td>0.0002</td>\n",
       "      <td>coating</td>\n",
       "      <td>solid</td>\n",
       "      <td>5.0</td>\n",
       "      <td>10000000.0</td>\n",
       "      <td>0.00001</td>\n",
       "      <td>0.0121</td>\n",
       "      <td>0.0123</td>\n",
       "      <td>333.287201</td>\n",
       "      <td>...</td>\n",
       "      <td>153.309721</td>\n",
       "      <td>38488.279918</td>\n",
       "      <td>38641.589638</td>\n",
       "      <td>NaN</td>\n",
       "      <td>NaN</td>\n",
       "      <td>NaN</td>\n",
       "      <td>NaN</td>\n",
       "      <td>NaN</td>\n",
       "      <td>NaN</td>\n",
       "      <td>NaN</td>\n",
       "    </tr>\n",
       "    <tr>\n",
       "      <th>7</th>\n",
       "      <td>boundary condition</td>\n",
       "      <td>NaN</td>\n",
       "      <td>Helium out</td>\n",
       "      <td>NaN</td>\n",
       "      <td>NaN</td>\n",
       "      <td>NaN</td>\n",
       "      <td>NaN</td>\n",
       "      <td>NaN</td>\n",
       "      <td>NaN</td>\n",
       "      <td>NaN</td>\n",
       "      <td>...</td>\n",
       "      <td>NaN</td>\n",
       "      <td>NaN</td>\n",
       "      <td>NaN</td>\n",
       "      <td>600.0</td>\n",
       "      <td>NaN</td>\n",
       "      <td>50000.0</td>\n",
       "      <td>-1524.279721</td>\n",
       "      <td>inner</td>\n",
       "      <td>fluid</td>\n",
       "      <td>NaN</td>\n",
       "    </tr>\n",
       "    <tr>\n",
       "      <th>8</th>\n",
       "      <td>boundary condition</td>\n",
       "      <td>NaN</td>\n",
       "      <td>outer heatflux</td>\n",
       "      <td>NaN</td>\n",
       "      <td>NaN</td>\n",
       "      <td>NaN</td>\n",
       "      <td>NaN</td>\n",
       "      <td>NaN</td>\n",
       "      <td>NaN</td>\n",
       "      <td>NaN</td>\n",
       "      <td>...</td>\n",
       "      <td>NaN</td>\n",
       "      <td>NaN</td>\n",
       "      <td>NaN</td>\n",
       "      <td>NaN</td>\n",
       "      <td>NaN</td>\n",
       "      <td>NaN</td>\n",
       "      <td>38641.589638</td>\n",
       "      <td>outer</td>\n",
       "      <td>heat flux</td>\n",
       "      <td>500000.0</td>\n",
       "    </tr>\n",
       "  </tbody>\n",
       "</table>\n",
       "<p>3 rows × 24 columns</p>\n",
       "</div>"
      ],
      "text/plain": [
       "               object  layer thickness [m]           label layer type  \\\n",
       "6               layer               0.0002         coating      solid   \n",
       "7  boundary condition                  NaN      Helium out        NaN   \n",
       "8  boundary condition                  NaN  outer heatflux        NaN   \n",
       "\n",
       "   conductivity [W/mK]  volumetric heat generation [W/m^3]  \\\n",
       "6                  5.0                          10000000.0   \n",
       "7                  NaN                                 NaN   \n",
       "8                  NaN                                 NaN   \n",
       "\n",
       "   thermal resistance of outer layer interface [m^2K/W]  r_inner [m]  \\\n",
       "6                                            0.00001          0.0121   \n",
       "7                                                NaN             NaN   \n",
       "8                                                NaN             NaN   \n",
       "\n",
       "   r_outer [m]  T_{r_inner} [degC]  ...  internal heat generation [W/m]  \\\n",
       "6       0.0123          333.287201  ...                      153.309721   \n",
       "7          NaN                 NaN  ...                             NaN   \n",
       "8          NaN                 NaN  ...                             NaN   \n",
       "\n",
       "   inner boundary heat transfer [W/m]  outer boundary heat transfer [W/m]  \\\n",
       "6                        38488.279918                        38641.589638   \n",
       "7                                 NaN                                 NaN   \n",
       "8                                 NaN                                 NaN   \n",
       "\n",
       "   Bulk temperature [degC]  inner heat transfer coefficient [W/m^2K]  \\\n",
       "6                      NaN                                       NaN   \n",
       "7                    600.0                                       NaN   \n",
       "8                      NaN                                       NaN   \n",
       "\n",
       "   outer heat transfer coefficient [W/m^2K]  \\\n",
       "6                                       NaN   \n",
       "7                                   50000.0   \n",
       "8                                       NaN   \n",
       "\n",
       "   net heat transfer into layer/boundary [W/m]  boundary condition side  \\\n",
       "6                                          NaN                      NaN   \n",
       "7                                 -1524.279721                    inner   \n",
       "8                                 38641.589638                    outer   \n",
       "\n",
       "   boundary condition type  boundary heat flux [W/m^2]  \n",
       "6                      NaN                         NaN  \n",
       "7                    fluid                         NaN  \n",
       "8                heat flux                    500000.0  \n",
       "\n",
       "[3 rows x 24 columns]"
      ]
     },
     "execution_count": 11,
     "metadata": {},
     "output_type": "execute_result"
    }
   ],
   "source": [
    "df.tail(3)"
   ]
  },
  {
   "cell_type": "code",
   "execution_count": null,
   "metadata": {},
   "outputs": [],
   "source": []
  }
 ],
 "metadata": {
  "kernelspec": {
   "display_name": "Python 3",
   "language": "python",
   "name": "python3"
  },
  "language_info": {
   "codemirror_mode": {
    "name": "ipython",
    "version": 3
   },
   "file_extension": ".py",
   "mimetype": "text/x-python",
   "name": "python",
   "nbconvert_exporter": "python",
   "pygments_lexer": "ipython3",
   "version": "3.8.5"
  }
 },
 "nbformat": 4,
 "nbformat_minor": 4
}
